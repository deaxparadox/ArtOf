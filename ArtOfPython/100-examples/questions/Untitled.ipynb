{
 "cells": [
  {
   "cell_type": "code",
   "execution_count": 1,
   "id": "f3f1dab0-5cff-461f-a34b-630b49cad23e",
   "metadata": {},
   "outputs": [],
   "source": [
    "def each_char_differ(s: str) -> bool:\n",
    "    if len(s) == 0:\n",
    "        return True\n",
    "    s_list = [x for x in s]\n",
    "    i = 0\n",
    "    while (i  != (len(s_list)-1)):\n",
    "        first, cur, rest = s_list[:i], s_list[i], s_list[i+1:]\n",
    "        if cur in first or cur in rest:\n",
    "            return False\n",
    "        i += 1\n",
    "    return True\n",
    "        "
   ]
  },
  {
   "cell_type": "code",
   "execution_count": 2,
   "id": "423c3da7-dbe8-4d3e-9478-03af06488d3c",
   "metadata": {},
   "outputs": [
    {
     "data": {
      "text/plain": [
       "True"
      ]
     },
     "execution_count": 2,
     "metadata": {},
     "output_type": "execute_result"
    }
   ],
   "source": [
    "each_char_differ('a')"
   ]
  },
  {
   "cell_type": "code",
   "execution_count": 3,
   "id": "aab71606-df06-4933-9194-0ca3233b5c33",
   "metadata": {},
   "outputs": [],
   "source": [
    "def diff_adj_char(s: str) -> bool:\n",
    "    s_list = [x for x in s]\n",
    "    i = 0\n",
    "    while i < len(s_list)-1:\n",
    "        if s_list[i] != s_list[i+1]:\n",
    "            return True\n",
    "        i += 1\n",
    "    return False\n",
    "        "
   ]
  },
  {
   "cell_type": "code",
   "execution_count": 4,
   "id": "3b32a940-8739-4538-a411-38103dd42084",
   "metadata": {},
   "outputs": [
    {
     "data": {
      "text/plain": [
       "True"
      ]
     },
     "execution_count": 4,
     "metadata": {},
     "output_type": "execute_result"
    }
   ],
   "source": [
    "diff_adj_char('bba')"
   ]
  },
  {
   "cell_type": "code",
   "execution_count": 5,
   "id": "91155990-3805-4887-af11-a02b05d93a5c",
   "metadata": {},
   "outputs": [],
   "source": [
    "def check(s_list):\n",
    "    i = 0\n",
    "    while i < len(s_list)-1:\n",
    "        if s_list[i] != s_list[i+1]:\n",
    "            s_list = s_list[:i] + s_list[i+2:]\n",
    "        i += 1\n",
    "\n",
    "def remove_adjacent_diff_char_pairs(s: str) -> str:\n",
    "    s_list = [x for x in s]\n",
    "    lr = check(s_list)\n",
    "    rl = check(s_list[::-1])\n",
    "    if len(\n",
    "    return \"\".join(s_list)"
   ]
  },
  {
   "cell_type": "code",
   "execution_count": null,
   "id": "4294804f-8e31-49e1-bff6-d1632c2b0490",
   "metadata": {},
   "outputs": [],
   "source": []
  },
  {
   "cell_type": "code",
   "execution_count": 6,
   "id": "d8facc43-37f9-4219-bae4-d90bf73c46b5",
   "metadata": {},
   "outputs": [],
   "source": [
    "def check_cases(s_len, s):\n",
    "    while test_case:\n",
    "    s_len = int(input())\n",
    "    s = input().strip()\n",
    "\n",
    "    while diff_adj_char(s):\n",
    "        s = remove_adjacent_diff_char_pairs(s)\n",
    "        # print(s)\n",
    "    print(len(s))\n",
    "    test_case -=1"
   ]
  },
  {
   "cell_type": "code",
   "execution_count": 7,
   "id": "6286ea27-445b-4040-b0ca-6105c546e2fd",
   "metadata": {},
   "outputs": [],
   "source": [
    "cases = [\n",
    "    (4, 'aabc'),\n",
    "    (5, 'abaca'),\n",
    "    (10, 'avbvvcvvvd'),\n",
    "    (7, 'abcdefg'),\n",
    "    (5, 'dabbb'),\n",
    "    (8, 'aacebeaa'),\n",
    "    (7, 'bbbbacc'),\n",
    "    (6, 'dacfcc'),\n",
    "    (6, 'fdfcdc'),\n",
    "    (9, 'dbdcfbbdc')\n",
    "]"
   ]
  }
 ],
 "metadata": {
  "kernelspec": {
   "display_name": "py312",
   "language": "python",
   "name": "py312"
  },
  "language_info": {
   "codemirror_mode": {
    "name": "ipython",
    "version": 3
   },
   "file_extension": ".py",
   "mimetype": "text/x-python",
   "name": "python",
   "nbconvert_exporter": "python",
   "pygments_lexer": "ipython3",
   "version": "3.12.0"
  }
 },
 "nbformat": 4,
 "nbformat_minor": 5
}
