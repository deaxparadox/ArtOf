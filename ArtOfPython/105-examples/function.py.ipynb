{
 "cells": [
  {
   "cell_type": "markdown",
   "id": "induced-audio",
   "metadata": {},
   "source": [
    "# Function"
   ]
  },
  {
   "cell_type": "code",
   "execution_count": 4,
   "id": "worst-tuition",
   "metadata": {},
   "outputs": [],
   "source": [
    "# defining a function\n",
    "def my_function():\n",
    "    print(\"Hello from a function\")"
   ]
  },
  {
   "cell_type": "code",
   "execution_count": 6,
   "id": "united-chrome",
   "metadata": {},
   "outputs": [
    {
     "name": "stdout",
     "output_type": "stream",
     "text": [
      "Hello from a function\n"
     ]
    }
   ],
   "source": [
    "# calling a function\n",
    "my_function()"
   ]
  },
  {
   "cell_type": "markdown",
   "id": "second-isolation",
   "metadata": {},
   "source": [
    "### Arguments"
   ]
  },
  {
   "cell_type": "code",
   "execution_count": 9,
   "id": "constitutional-invasion",
   "metadata": {},
   "outputs": [],
   "source": [
    "def my_function(fname):\n",
    "    print(fname + \" Refuses\")"
   ]
  },
  {
   "cell_type": "code",
   "execution_count": 10,
   "id": "fiscal-calendar",
   "metadata": {},
   "outputs": [
    {
     "name": "stdout",
     "output_type": "stream",
     "text": [
      "Emil Refuses\n",
      "Tobias Refuses\n",
      "Linus Refuses\n"
     ]
    }
   ],
   "source": [
    "my_function(\"Emil\")\n",
    "my_function(\"Tobias\")\n",
    "my_function(\"Linus\")"
   ]
  },
  {
   "cell_type": "code",
   "execution_count": 11,
   "id": "functional-training",
   "metadata": {},
   "outputs": [],
   "source": [
    "def my_function(fname, lname):\n",
    "    print(fname + \" \" + lname)\n"
   ]
  },
  {
   "cell_type": "code",
   "execution_count": 12,
   "id": "spread-flooring",
   "metadata": {},
   "outputs": [
    {
     "name": "stdout",
     "output_type": "stream",
     "text": [
      "Denis Ricth\n"
     ]
    }
   ],
   "source": [
    "my_function(\"Denis\", \"Ricth\")"
   ]
  },
  {
   "cell_type": "markdown",
   "id": "raising-certificate",
   "metadata": {},
   "source": [
    "### Arbitrary Arguments: *args"
   ]
  },
  {
   "cell_type": "code",
   "execution_count": 13,
   "id": "caring-revelation",
   "metadata": {},
   "outputs": [],
   "source": [
    "def any_args(*a):\n",
    "    print(a)"
   ]
  },
  {
   "cell_type": "code",
   "execution_count": 14,
   "id": "intensive-waterproof",
   "metadata": {},
   "outputs": [
    {
     "name": "stdout",
     "output_type": "stream",
     "text": [
      "(1, 2, 4, 5)\n"
     ]
    }
   ],
   "source": [
    "any_args(1, 2, 4, 5)"
   ]
  },
  {
   "cell_type": "markdown",
   "id": "eight-thong",
   "metadata": {},
   "source": [
    "### Keyword Arguments: **kwargs"
   ]
  },
  {
   "cell_type": "code",
   "execution_count": 17,
   "id": "divine-hudson",
   "metadata": {},
   "outputs": [],
   "source": [
    "def kwd_args(a, b, c):\n",
    "    print(a, b, c)"
   ]
  },
  {
   "cell_type": "code",
   "execution_count": 18,
   "id": "dietary-soundtrack",
   "metadata": {},
   "outputs": [
    {
     "name": "stdout",
     "output_type": "stream",
     "text": [
      "1 2 3\n"
     ]
    }
   ],
   "source": [
    "kwd_args(a=1, b=2, c=3)"
   ]
  },
  {
   "cell_type": "code",
   "execution_count": 15,
   "id": "alike-family",
   "metadata": {},
   "outputs": [],
   "source": [
    "def kwd_args(**k):\n",
    "    print(k)"
   ]
  },
  {
   "cell_type": "code",
   "execution_count": 16,
   "id": "loving-warning",
   "metadata": {},
   "outputs": [
    {
     "name": "stdout",
     "output_type": "stream",
     "text": [
      "{'a': 1, 'b': 2, 'c': 3}\n"
     ]
    }
   ],
   "source": [
    "kwd_args(a=1, b=2, c=3)"
   ]
  },
  {
   "cell_type": "markdown",
   "id": "municipal-diagnosis",
   "metadata": {},
   "source": [
    "### Passing a list a argument"
   ]
  },
  {
   "cell_type": "code",
   "execution_count": 19,
   "id": "aggregate-holmes",
   "metadata": {},
   "outputs": [],
   "source": [
    "def my_func(food):\n",
    "    for x in food:\n",
    "        print(x)"
   ]
  },
  {
   "cell_type": "code",
   "execution_count": 20,
   "id": "third-belief",
   "metadata": {},
   "outputs": [],
   "source": [
    "fruits = [\"apple\", \"banana\", \"cherry\"]"
   ]
  },
  {
   "cell_type": "code",
   "execution_count": 21,
   "id": "aquatic-sharing",
   "metadata": {},
   "outputs": [
    {
     "name": "stdout",
     "output_type": "stream",
     "text": [
      "apple\n",
      "banana\n",
      "cherry\n"
     ]
    }
   ],
   "source": [
    "my_func(fruits)"
   ]
  },
  {
   "cell_type": "markdown",
   "id": "willing-science",
   "metadata": {},
   "source": [
    "### Default arguments"
   ]
  },
  {
   "cell_type": "code",
   "execution_count": 22,
   "id": "rocky-carbon",
   "metadata": {},
   "outputs": [],
   "source": [
    "def default_func(a=1, b=2):\n",
    "    print(a, b)"
   ]
  },
  {
   "cell_type": "code",
   "execution_count": 23,
   "id": "normal-characteristic",
   "metadata": {},
   "outputs": [
    {
     "name": "stdout",
     "output_type": "stream",
     "text": [
      "1 2\n"
     ]
    }
   ],
   "source": [
    "default_func()"
   ]
  },
  {
   "cell_type": "code",
   "execution_count": 24,
   "id": "corrected-natural",
   "metadata": {},
   "outputs": [
    {
     "name": "stdout",
     "output_type": "stream",
     "text": [
      "11 12\n"
     ]
    }
   ],
   "source": [
    "default_func(11, 12)"
   ]
  },
  {
   "cell_type": "code",
   "execution_count": 25,
   "id": "cognitive-creator",
   "metadata": {},
   "outputs": [
    {
     "name": "stdout",
     "output_type": "stream",
     "text": [
      "21 22\n"
     ]
    }
   ],
   "source": [
    "default_func(a=21, b=22)"
   ]
  },
  {
   "cell_type": "code",
   "execution_count": null,
   "id": "viral-millennium",
   "metadata": {},
   "outputs": [],
   "source": []
  },
  {
   "cell_type": "code",
   "execution_count": null,
   "id": "widespread-radius",
   "metadata": {},
   "outputs": [],
   "source": []
  }
 ],
 "metadata": {
  "kernelspec": {
   "display_name": "Python 3",
   "language": "python",
   "name": "python3"
  },
  "language_info": {
   "codemirror_mode": {
    "name": "ipython",
    "version": 3
   },
   "file_extension": ".py",
   "mimetype": "text/x-python",
   "name": "python",
   "nbconvert_exporter": "python",
   "pygments_lexer": "ipython3",
   "version": "3.9.2"
  }
 },
 "nbformat": 4,
 "nbformat_minor": 5
}
