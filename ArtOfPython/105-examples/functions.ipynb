{
 "cells": [
  {
   "cell_type": "code",
   "execution_count": 1,
   "metadata": {},
   "outputs": [
    {
     "data": {
      "text/plain": [
       "'\\n*name parameters \\n'"
      ]
     },
     "execution_count": 1,
     "metadata": {},
     "output_type": "execute_result"
    }
   ],
   "source": [
    "# def fib(n):\n",
    "#     # print a Fibonacci series up to n.\n",
    "#     a = 0\n",
    "#     b = 1\n",
    "#     while a < n:\n",
    "#         print(a, end=\" \")\n",
    "#         a = b\n",
    "#         b = a + b \n",
    "#     print()\n",
    "\n",
    "# fib(10)\n",
    "\n",
    "\n",
    "\n",
    "\"\"\"\n",
    "return statement\n",
    "\"\"\"\n",
    "# def fib(n):\n",
    "#     # print a Fibonacci series up to n.\n",
    "#     result = []\n",
    "#     a = 0\n",
    "#     b = 1\n",
    "#     while a < n:\n",
    "#         result.append(a)\n",
    "#         a = b\n",
    "#         b = a + b \n",
    "#     return result\n",
    "\n",
    "# # output\n",
    "# print(fib(10))\n",
    "\n",
    "\n",
    "\n",
    "\"\"\"\n",
    "Default argument \n",
    "\"\"\"\n",
    "\n",
    "# def ask_ok(prompt, retries=4, reminder=\"Please try again!\"):\n",
    "#     while True:\n",
    "#         ok = input(prompt)\n",
    "#         if ok in (\"y\", 'ye', \"yes\"):\n",
    "#             return True \n",
    "#         if ok in (\"n\", 'no', 'nop', 'nope'):\n",
    "#             return False \n",
    "#         retries = retries - 1\n",
    "#         if retries <= 0:\n",
    "#             raise ValueError(\"invalid user response\")\n",
    "#         print(reminder)\n",
    "\n",
    "# ask_ok(\"Enter: \")\n",
    "\n",
    "\"\"\"\n",
    "The default values are evaluated at the point of function definition in the definiing scope.\n",
    "\"\"\"\n",
    "\n",
    "# i = 5\n",
    "# def f(arg=i):\n",
    "#     print('arg:', arg, 'i:', i)\n",
    "# i = 6\n",
    "# f()\n",
    "\n",
    "\"\"\"\n",
    "The default value is evaluated only once.\n",
    "\"\"\"\n",
    "\n",
    "# def f(a, L=[]):\n",
    "#     L.append(a)\n",
    "#     return L \n",
    "\n",
    "# print(f(1))\n",
    "# print(f(2))\n",
    "# print(f(3))\n",
    "\n",
    "# def f(a, L=None):\n",
    "#     if L is None:\n",
    "#         L = []\n",
    "#     L.append(a)\n",
    "#     return L\n",
    "\n",
    "# print(f(1))\n",
    "# print(f(2))\n",
    "# print(f(3))\n",
    "\n",
    "\"\"\"\n",
    "Keyword Argument \n",
    "\"\"\"\n",
    "\n",
    "# with out default\n",
    "\n",
    "# def add(a, b):\n",
    "#     return a + b\n",
    "# print(add(1,2))\n",
    "# print(add(a=1,b=2))\n",
    "# print(add(b=1,a=2))\n",
    "# print(add(a=2))\n",
    "\n",
    "# with defaults\n",
    "\n",
    "# def operation(a=1, b=13, operator=\"+\"):\n",
    "#     match operator:\n",
    "#         case \"-\":\n",
    "#             return a - b\n",
    "#         case \"*\":\n",
    "#             return a * b\n",
    "#         case _:\n",
    "#             return a + b\n",
    "        \n",
    "# print(\"Addition\")\n",
    "# print(operation())\n",
    "# print(operation(a=12, b=12))\n",
    "# print(operation(a=12))\n",
    "# print(operation(b=12))\n",
    "\n",
    "# print(\"Subtraction\")\n",
    "# print(operation(operator=\"-\"))\n",
    "# print(operation(a=12, b=12, operator=\"-\"))\n",
    "# print(operation(operator=\"-\", a=12))\n",
    "# print(operation(b=12, operator=\"-\"))\n",
    "\n",
    "# combined\n",
    "\n",
    "# def combine_argument(a, b, operator=\"+\"):\n",
    "#     match operator:\n",
    "#         case \"-\":\n",
    "#             return a - b\n",
    "#         case \"*\":\n",
    "#             return a * b\n",
    "#         case _:\n",
    "#             return a + b\n",
    "\n",
    "# # use cases\n",
    "\n",
    "# print(\"Addition\")\n",
    "# print(combine_argument(1,2))\n",
    "# print(combine_argument(a=1,b=2))\n",
    "# print(combine_argument(b=1,a=2))\n",
    "\n",
    "# print(\"Subraction\")\n",
    "# print(combine_argument(1,2, operator=\"-\"))\n",
    "# # print(combine_argument(operator=\"-\", 1,2))      # error non-default cannot be used after defautl\n",
    "# print(combine_argument(a=1,b=2))\n",
    "# print(combine_argument(b=1,a=2))\n",
    "\n",
    "\n",
    "\n",
    "\"\"\"\n",
    "*name parameters \n",
    "\"\"\"\n",
    "\n",
    "# def func(*args):\n",
    "#     print(args)\n",
    "#     sum = 0 \n",
    "#     for i in args:\n",
    "#         sum += i\n",
    "#     return sum\n",
    "\n",
    "\n"
   ]
  },
  {
   "attachments": {},
   "cell_type": "markdown",
   "metadata": {},
   "source": [
    "# **name parameters"
   ]
  },
  {
   "cell_type": "code",
   "execution_count": 3,
   "metadata": {},
   "outputs": [
    {
     "name": "stdout",
     "output_type": "stream",
     "text": [
      "{'a': 1, 'b': 2, 'c': 3}\n",
      "a 1\n",
      "b 2\n",
      "c 3\n"
     ]
    }
   ],
   "source": [
    "def func(**kwargs):\n",
    "    print(kwargs)\n",
    "    for k in kwargs:\n",
    "        print(k, kwargs[k])\n",
    "    return \n",
    "\n",
    "func(a=1, b=2, c=3)"
   ]
  },
  {
   "attachments": {},
   "cell_type": "markdown",
   "metadata": {},
   "source": [
    "## Combining args and kwargs"
   ]
  },
  {
   "cell_type": "code",
   "execution_count": 4,
   "metadata": {},
   "outputs": [
    {
     "name": "stdout",
     "output_type": "stream",
     "text": [
      "(1, 2, 3)\n",
      "{'a': 4, 'b': 5, 'c': 6}\n"
     ]
    }
   ],
   "source": [
    "def func(*args, **kwargs):\n",
    "    print(args)\n",
    "    print(kwargs)\n",
    "\n",
    "func(1,2,3, a=4,b=5,c=6)"
   ]
  },
  {
   "attachments": {},
   "cell_type": "markdown",
   "metadata": {},
   "source": [
    "## Standard Arguments"
   ]
  },
  {
   "cell_type": "code",
   "execution_count": 10,
   "metadata": {},
   "outputs": [
    {
     "name": "stdout",
     "output_type": "stream",
     "text": [
      "1\n",
      "3\n"
     ]
    }
   ],
   "source": [
    "def standard_args(arg):\n",
    "    print(arg)\n",
    "\n",
    "standard_args(1)\n",
    "standard_args(arg=3)"
   ]
  },
  {
   "attachments": {},
   "cell_type": "markdown",
   "metadata": {},
   "source": [
    "## Positional argument"
   ]
  },
  {
   "cell_type": "code",
   "execution_count": 12,
   "metadata": {},
   "outputs": [
    {
     "name": "stdout",
     "output_type": "stream",
     "text": [
      "1\n"
     ]
    },
    {
     "ename": "TypeError",
     "evalue": "pos_only_arg() got some positional-only arguments passed as keyword arguments: 'arg'",
     "output_type": "error",
     "traceback": [
      "\u001b[0;31m---------------------------------------------------------------------------\u001b[0m",
      "\u001b[0;31mTypeError\u001b[0m                                 Traceback (most recent call last)",
      "Cell \u001b[0;32mIn[12], line 5\u001b[0m\n\u001b[1;32m      2\u001b[0m     \u001b[39mprint\u001b[39m(arg)\n\u001b[1;32m      4\u001b[0m pos_only_arg(\u001b[39m1\u001b[39m)\n\u001b[0;32m----> 5\u001b[0m pos_only_arg(arg\u001b[39m=\u001b[39;49m\u001b[39m1\u001b[39;49m)\n",
      "\u001b[0;31mTypeError\u001b[0m: pos_only_arg() got some positional-only arguments passed as keyword arguments: 'arg'"
     ]
    }
   ],
   "source": [
    "def pos_only_arg(arg, /):\n",
    "    print(arg)\n",
    "\n",
    "pos_only_arg(1)\n",
    "pos_only_arg(arg=1)"
   ]
  },
  {
   "attachments": {},
   "cell_type": "markdown",
   "metadata": {},
   "source": [
    "## Keyword argument"
   ]
  },
  {
   "cell_type": "code",
   "execution_count": 13,
   "metadata": {},
   "outputs": [],
   "source": [
    "def kwd_only_arg(*, arg):\n",
    "    print(arg)"
   ]
  },
  {
   "cell_type": "code",
   "execution_count": 15,
   "metadata": {},
   "outputs": [
    {
     "name": "stdout",
     "output_type": "stream",
     "text": [
      "1\n"
     ]
    }
   ],
   "source": [
    "kwd_only_arg(arg=1)"
   ]
  },
  {
   "cell_type": "code",
   "execution_count": 16,
   "metadata": {},
   "outputs": [
    {
     "ename": "TypeError",
     "evalue": "kwd_only_arg() takes 0 positional arguments but 1 was given",
     "output_type": "error",
     "traceback": [
      "\u001b[0;31m---------------------------------------------------------------------------\u001b[0m",
      "\u001b[0;31mTypeError\u001b[0m                                 Traceback (most recent call last)",
      "Cell \u001b[0;32mIn[16], line 1\u001b[0m\n\u001b[0;32m----> 1\u001b[0m kwd_only_arg(\u001b[39m1\u001b[39;49m)\n",
      "\u001b[0;31mTypeError\u001b[0m: kwd_only_arg() takes 0 positional arguments but 1 was given"
     ]
    }
   ],
   "source": [
    "kwd_only_arg(1)"
   ]
  },
  {
   "attachments": {},
   "cell_type": "markdown",
   "metadata": {},
   "source": [
    "## Combining position and keyword argument"
   ]
  },
  {
   "cell_type": "code",
   "execution_count": 18,
   "metadata": {},
   "outputs": [],
   "source": [
    "def combined_example(pos_only, /, standard, *, kwd_only):\n",
    "    print(pos_only, standard, kwd_only)"
   ]
  },
  {
   "cell_type": "code",
   "execution_count": 19,
   "metadata": {},
   "outputs": [
    {
     "name": "stdout",
     "output_type": "stream",
     "text": [
      "1 2 3\n"
     ]
    }
   ],
   "source": [
    "combined_example(1, standard=2, kwd_only=3)"
   ]
  },
  {
   "cell_type": "code",
   "execution_count": null,
   "metadata": {},
   "outputs": [],
   "source": []
  },
  {
   "attachments": {},
   "cell_type": "markdown",
   "metadata": {},
   "source": []
  },
  {
   "cell_type": "code",
   "execution_count": null,
   "metadata": {},
   "outputs": [],
   "source": []
  },
  {
   "attachments": {},
   "cell_type": "markdown",
   "metadata": {},
   "source": []
  }
 ],
 "metadata": {
  "kernelspec": {
   "display_name": "py310",
   "language": "python",
   "name": "python3"
  },
  "language_info": {
   "codemirror_mode": {
    "name": "ipython",
    "version": 3
   },
   "file_extension": ".py",
   "mimetype": "text/x-python",
   "name": "python",
   "nbconvert_exporter": "python",
   "pygments_lexer": "ipython3",
   "version": "3.10.9"
  },
  "orig_nbformat": 4
 },
 "nbformat": 4,
 "nbformat_minor": 2
}
