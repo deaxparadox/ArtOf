{
 "cells": [
  {
   "cell_type": "markdown",
   "id": "manual-oliver",
   "metadata": {},
   "source": [
    "# Function"
   ]
  },
  {
   "cell_type": "code",
   "execution_count": 4,
   "id": "after-leisure",
   "metadata": {},
   "outputs": [],
   "source": [
    "# defining a function\n",
    "def my_function():\n",
    "    print(\"Hello from a function\")"
   ]
  },
  {
   "cell_type": "code",
   "execution_count": 6,
   "id": "controlled-triangle",
   "metadata": {},
   "outputs": [
    {
     "name": "stdout",
     "output_type": "stream",
     "text": [
      "Hello from a function\n"
     ]
    }
   ],
   "source": [
    "# calling a function\n",
    "my_function()"
   ]
  },
  {
   "cell_type": "markdown",
   "id": "equivalent-syntax",
   "metadata": {},
   "source": [
    "## Arguments"
   ]
  },
  {
   "cell_type": "code",
   "execution_count": 9,
   "id": "relevant-composite",
   "metadata": {},
   "outputs": [],
   "source": [
    "def my_function(fname):\n",
    "    print(fname + \" Refuses\")"
   ]
  },
  {
   "cell_type": "code",
   "execution_count": 10,
   "id": "needed-gossip",
   "metadata": {},
   "outputs": [
    {
     "name": "stdout",
     "output_type": "stream",
     "text": [
      "Emil Refuses\n",
      "Tobias Refuses\n",
      "Linus Refuses\n"
     ]
    }
   ],
   "source": [
    "my_function(\"Emil\")\n",
    "my_function(\"Tobias\")\n",
    "my_function(\"Linus\")"
   ]
  },
  {
   "cell_type": "code",
   "execution_count": 11,
   "id": "reflected-governor",
   "metadata": {},
   "outputs": [],
   "source": [
    "def my_function(fname, lname):\n",
    "    print(fname + \" \" + lname)\n"
   ]
  },
  {
   "cell_type": "code",
   "execution_count": 12,
   "id": "amended-albuquerque",
   "metadata": {},
   "outputs": [
    {
     "name": "stdout",
     "output_type": "stream",
     "text": [
      "Denis Ricth\n"
     ]
    }
   ],
   "source": [
    "my_function(\"Denis\", \"Ricth\")"
   ]
  },
  {
   "cell_type": "markdown",
   "id": "elder-subject",
   "metadata": {},
   "source": [
    "## Arbitrary Arguments: *args"
   ]
  },
  {
   "cell_type": "code",
   "execution_count": 13,
   "id": "fourth-weapon",
   "metadata": {},
   "outputs": [],
   "source": [
    "def any_args(*a):\n",
    "    print(a)"
   ]
  },
  {
   "cell_type": "code",
   "execution_count": 14,
   "id": "acoustic-granny",
   "metadata": {},
   "outputs": [
    {
     "name": "stdout",
     "output_type": "stream",
     "text": [
      "(1, 2, 4, 5)\n"
     ]
    }
   ],
   "source": [
    "any_args(1, 2, 4, 5)"
   ]
  },
  {
   "cell_type": "markdown",
   "id": "celtic-donna",
   "metadata": {},
   "source": [
    "### Keyword Arguments: **kwargs"
   ]
  },
  {
   "cell_type": "code",
   "execution_count": null,
   "id": "global-diameter",
   "metadata": {},
   "outputs": [],
   "source": [
    "def kwd_args(**k):\n",
    "    print(k)"
   ]
  }
 ],
 "metadata": {
  "kernelspec": {
   "display_name": "Python 3",
   "language": "python",
   "name": "python3"
  },
  "language_info": {
   "codemirror_mode": {
    "name": "ipython",
    "version": 3
   },
   "file_extension": ".py",
   "mimetype": "text/x-python",
   "name": "python",
   "nbconvert_exporter": "python",
   "pygments_lexer": "ipython3",
   "version": "3.9.2"
  }
 },
 "nbformat": 4,
 "nbformat_minor": 5
}
